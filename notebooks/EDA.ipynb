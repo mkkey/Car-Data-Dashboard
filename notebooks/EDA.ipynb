{
 "cells": [
  {
   "cell_type": "markdown",
   "metadata": {},
   "source": [
    "<h1> Exploratory data analysis (EDA) on Used Car Data </h1>\n",
    "by Mikhail Karepov\n",
    "\n",
    "This project is designed to provide additional practice with common software engineering tasks, aimed at enhancing and complementing data skills. \n",
    "The goal is to develop and deploy a web application that makes the analysis accessible to the public via a cloud service.\n",
    "\n",
    "The dataset provided includes used car sales advertisements, and the project follows a series of steps for analysis, visualization, and deployment. \n",
    "For deployment, we will be using the Render platform."
   ]
  },
  {
   "cell_type": "markdown",
   "metadata": {},
   "source": [
    "**Table of contents**<a id='toc0_'></a>    \n",
    "- 1. [Initialization](#toc1_)    \n",
    "- 2. [Load data](#toc2_)    \n",
    "- 3. [Prepare the data](#toc3_)    \n",
    "\n",
    "<!-- vscode-jupyter-toc-config\n",
    "\tnumbering=true\n",
    "\tanchor=true\n",
    "\tflat=false\n",
    "\tminLevel=3\n",
    "\tmaxLevel=6\n",
    "\t/vscode-jupyter-toc-config -->\n",
    "<!-- THIS CELL WILL BE REPLACED ON TOC UPDATE. DO NOT WRITE YOUR TEXT IN THIS CELL -->"
   ]
  },
  {
   "cell_type": "markdown",
   "metadata": {},
   "source": [
    "### 1. <a id='toc1_'></a>[Initialization](#toc0_)"
   ]
  },
  {
   "cell_type": "code",
   "execution_count": 1,
   "metadata": {},
   "outputs": [],
   "source": [
    "# Importing all the necessary libraries\n",
    "import pandas as pd  # For data manipulation and analysis\n",
    "import streamlit as st  # For creating interactive web applications\n",
    "import plotly.express as px  # For interactive data visualization\n",
    "import altair as alt  # For declarative data visualization"
   ]
  },
  {
   "cell_type": "markdown",
   "metadata": {},
   "source": [
    "### 2. <a id='toc2_'></a>[Load data](#toc0_)"
   ]
  },
  {
   "cell_type": "code",
   "execution_count": 2,
   "metadata": {},
   "outputs": [],
   "source": [
    "# Load the data files into DataFrames\n",
    "used_car_data = pd.read_csv('../vehicles_us.csv')"
   ]
  },
  {
   "cell_type": "markdown",
   "metadata": {},
   "source": [
    "### 3. <a id='toc3_'></a>[Prepare the data](#toc0_)"
   ]
  },
  {
   "cell_type": "markdown",
   "metadata": {},
   "source": [
    "The `vehicles_us` table (data on used vehicles in the US):\n",
    "\n",
    "* **model** — vehicle model\n",
    "* **price** — vehicle price in US dollars\n",
    "* **condition** — vehicle condition (e.g., new, like new, excellent)\n",
    "* **cylinders** — number of cylinders in the engine\n",
    "* **fuel** — type of fuel used (e.g., gasoline, diesel)\n",
    "* **odometer** — mileage in miles\n",
    "* **transmission** — type of transmission (e.g., automatic, manual)\n",
    "* **paint_color** — color of the vehicle\n",
    "* **is_4wd** — whether the vehicle is four-wheel drive (True/False)\n",
    "* **date_posted** — date the ad was published\n",
    "* **days_listed** — number of days the ad remained active"
   ]
  },
  {
   "cell_type": "code",
   "execution_count": 3,
   "metadata": {},
   "outputs": [
    {
     "name": "stdout",
     "output_type": "stream",
     "text": [
      "<class 'pandas.core.frame.DataFrame'>\n",
      "RangeIndex: 51525 entries, 0 to 51524\n",
      "Data columns (total 13 columns):\n",
      " #   Column        Non-Null Count  Dtype  \n",
      "---  ------        --------------  -----  \n",
      " 0   price         51525 non-null  int64  \n",
      " 1   model_year    47906 non-null  float64\n",
      " 2   model         51525 non-null  object \n",
      " 3   condition     51525 non-null  object \n",
      " 4   cylinders     46265 non-null  float64\n",
      " 5   fuel          51525 non-null  object \n",
      " 6   odometer      43633 non-null  float64\n",
      " 7   transmission  51525 non-null  object \n",
      " 8   type          51525 non-null  object \n",
      " 9   paint_color   42258 non-null  object \n",
      " 10  is_4wd        25572 non-null  float64\n",
      " 11  date_posted   51525 non-null  object \n",
      " 12  days_listed   51525 non-null  int64  \n",
      "dtypes: float64(4), int64(2), object(7)\n",
      "memory usage: 5.1+ MB\n",
      "None\n"
     ]
    }
   ],
   "source": [
    "print(used_car_data.info())"
   ]
  }
 ],
 "metadata": {
  "kernelspec": {
   "display_name": "base",
   "language": "python",
   "name": "python3"
  },
  "language_info": {
   "codemirror_mode": {
    "name": "ipython",
    "version": 3
   },
   "file_extension": ".py",
   "mimetype": "text/x-python",
   "name": "python",
   "nbconvert_exporter": "python",
   "pygments_lexer": "ipython3",
   "version": "3.11.5"
  }
 },
 "nbformat": 4,
 "nbformat_minor": 2
}
